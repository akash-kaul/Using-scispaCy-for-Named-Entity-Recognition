{
  "nbformat": 4,
  "nbformat_minor": 0,
  "metadata": {
    "colab": {
      "name": "scispaCyNER.ipynb",
      "provenance": [],
      "collapsed_sections": [],
      "toc_visible": true,
      "include_colab_link": true
    },
    "kernelspec": {
      "name": "python3",
      "display_name": "Python 3"
    }
  },
  "cells": [
    {
      "cell_type": "markdown",
      "metadata": {
        "id": "view-in-github",
        "colab_type": "text"
      },
      "source": [
        "<a href=\"https://colab.research.google.com/github/akash-kaul/Using-scispaCy-for-Named-Entity-Recognition/blob/master/scispaCyNER.ipynb\" target=\"_parent\"><img src=\"https://colab.research.google.com/assets/colab-badge.svg\" alt=\"Open In Colab\"/></a>"
      ]
    },
    {
      "cell_type": "markdown",
      "metadata": {
        "id": "RNlfl4HCT0b9",
        "colab_type": "text"
      },
      "source": [
        "#Install Packages"
      ]
    },
    {
      "cell_type": "code",
      "metadata": {
        "id": "_z5GuCGNKPxK",
        "colab_type": "code",
        "colab": {}
      },
      "source": [
        "!pip install -U spacy\n",
        "!pip install scispacy\n",
        "!pip install https://s3-us-west-2.amazonaws.com/ai2-s2-scispacy/releases/v0.2.4/en_core_sci_sm-0.2.4.tar.gz\n",
        "!pip install https://s3-us-west-2.amazonaws.com/ai2-s2-scispacy/releases/v0.2.4/en_ner_craft_md-0.2.4.tar.gz\n",
        "!pip install https://s3-us-west-2.amazonaws.com/ai2-s2-scispacy/releases/v0.2.4/en_ner_jnlpba_md-0.2.4.tar.gz\n",
        "!pip install https://s3-us-west-2.amazonaws.com/ai2-s2-scispacy/releases/v0.2.4/en_ner_bc5cdr_md-0.2.4.tar.gz\n",
        "!pip install https://s3-us-west-2.amazonaws.com/ai2-s2-scispacy/releases/v0.2.4/en_ner_bionlp13cg_md-0.2.4.tar.gz\n",
        "!pip install https://s3-us-west-2.amazonaws.com/ai2-s2-scispacy/releases/v0.2.4/en_core_sci_lg-0.2.4.tar.gz"
      ],
      "execution_count": 0,
      "outputs": []
    },
    {
      "cell_type": "markdown",
      "metadata": {
        "id": "iLey8-aVT57b",
        "colab_type": "text"
      },
      "source": [
        "#Import Packages"
      ]
    },
    {
      "cell_type": "code",
      "metadata": {
        "id": "2fkHBVMO_yUh",
        "colab_type": "code",
        "colab": {}
      },
      "source": [
        "import scispacy\n",
        "import spacy\n",
        "\n",
        "#Core models\n",
        "import en_core_sci_sm\n",
        "import en_core_sci_lg\n",
        "\n",
        "#NER specific models\n",
        "import en_ner_craft_md\n",
        "import en_ner_bc5cdr_md\n",
        "import en_ner_jnlpba_md\n",
        "import en_ner_bionlp13cg_md\n",
        "\n",
        "#Tools for extracting & displaying data\n",
        "from spacy import displacy\n",
        "import pandas as pd\n",
        "\n",
        "\n"
      ],
      "execution_count": 0,
      "outputs": []
    },
    {
      "cell_type": "markdown",
      "metadata": {
        "id": "uZb1doG8UFGT",
        "colab_type": "text"
      },
      "source": [
        "#Read in Single Text"
      ]
    },
    {
      "cell_type": "code",
      "metadata": {
        "id": "4GDRSV_bEY9Y",
        "colab_type": "code",
        "colab": {}
      },
      "source": [
        "#Read in csv file\n",
        "meta_df = pd.read_csv(\"/content/metadata.csv\")\n",
        "\n",
        "#Pick specific abstract to use (row 0, column \"abstract\")\n",
        "text = meta_df.loc[0, \"abstract\"]\n",
        "\n",
        "#Load specific model and pass text through\n",
        "nlp = en_ner_jnlpba_md.load()\n",
        "doc = nlp(text)\n",
        "\n",
        "#Display resulting entity extraction\n",
        "displacy_image = displacy.render(doc, jupyter=True,style='ent')\n"
      ],
      "execution_count": 0,
      "outputs": []
    },
    {
      "cell_type": "markdown",
      "metadata": {
        "id": "9DRkbMdKUigM",
        "colab_type": "text"
      },
      "source": [
        "#Read in Entire File"
      ]
    },
    {
      "cell_type": "code",
      "metadata": {
        "id": "zLpCBd5Vif5F",
        "colab_type": "code",
        "colab": {}
      },
      "source": [
        "#Read in file\n",
        "meta_df = pd.read_csv(\"/content/sample.csv\")\n",
        "\n",
        "#Load the models\n",
        "nlp_cr = en_ner_craft_md.load()\n",
        "nlp_bc = en_ner_bc5cdr_md.load()\n",
        "nlp_bi = en_ner_bionlp13cg_md.load()\n",
        "nlp_jn = en_ner_jnlpba_md.load()\n",
        "\n",
        "#Create table to store entities\n",
        "table= {\"doi\":[], \"Entity\":[], \"Class\":[]}\n",
        "\n",
        "#Loop over entire CSV file\n",
        "meta_df.index\n",
        "for index, row in meta_df.iterrows():\n",
        "    text = meta_df.loc[index, \"abstract\"]\n",
        "    doi = meta_df.loc[index, \"doi\"]\n",
        "    if type(text) == float:\n",
        "        continue\n",
        "\n",
        "#Add all entity value pairs to table (run one at a time for best results)\n",
        "    add_cr (nlp_cr, text, table, doi)\n",
        "\n",
        "    # add_bc (nlp_bc, text, table, doi)\n",
        "\n",
        "    # add_bi (nlp_bi, text, table, doi)\n",
        "\n",
        "    # add_jn (nlp_jn, text, table, doi)\n",
        "\n",
        "#Turn table into an exportable CSV file (returns normalized file of entity/value pairs)\n",
        "trans_df = pd.DataFrame(table)\n",
        "trans_df.to_csv (\"Entity_model.csv\", index=False)"
      ],
      "execution_count": 0,
      "outputs": []
    },
    {
      "cell_type": "markdown",
      "metadata": {
        "id": "sWgSodvhzAPd",
        "colab_type": "text"
      },
      "source": [
        "#Methods to add entity/value pairs to table"
      ]
    },
    {
      "cell_type": "code",
      "metadata": {
        "id": "ac5BCGo8xiID",
        "colab_type": "code",
        "colab": {}
      },
      "source": [
        "def add_cr(model, text, table, doi):\n",
        "      ent_cr = createTable(model, text)\n",
        "      for key in ent_cr:\n",
        "        table[\"doi\"].append(doi)\n",
        "        table[\"Entity\"].append(key)\n",
        "        table[\"Class\"].append(ent_cr[key])\n",
        "\n"
      ],
      "execution_count": 0,
      "outputs": []
    },
    {
      "cell_type": "code",
      "metadata": {
        "id": "KCfROHBhyjmI",
        "colab_type": "code",
        "colab": {}
      },
      "source": [
        "def add_bc(model, text, table, doi):\n",
        "      ent_bc = createTable(model, text)\n",
        "      for key in ent_bc:\n",
        "        table[\"doi\"].append(doi)\n",
        "        table[\"Entity\"].append(key)\n",
        "        table[\"Class\"].append(ent_bc[key])\n"
      ],
      "execution_count": 0,
      "outputs": []
    },
    {
      "cell_type": "code",
      "metadata": {
        "id": "GH6C3c2vyj88",
        "colab_type": "code",
        "colab": {}
      },
      "source": [
        "def add_bi(model, text, table, doi):\n",
        "      ent_bi = createTable(model, text)\n",
        "      for key in ent_bi:\n",
        "        table[\"doi\"].append(doi)\n",
        "        table[\"Entity\"].append(key)\n",
        "        table[\"Class\"].append(ent_bi[key])\n"
      ],
      "execution_count": 0,
      "outputs": []
    },
    {
      "cell_type": "code",
      "metadata": {
        "id": "L_scr2FaykMG",
        "colab_type": "code",
        "colab": {}
      },
      "source": [
        "def add_jn(model, text, table, doi):\n",
        "      ent_jn = createTable(model, text)\n",
        "      for key in ent_jn:\n",
        "        table[\"doi\"].append(doi)\n",
        "        table[\"Entity\"].append(key)\n",
        "        table[\"Class\"].append(ent_jn[key])\n"
      ],
      "execution_count": 0,
      "outputs": []
    },
    {
      "cell_type": "markdown",
      "metadata": {
        "id": "cSQ7xan9kUsE",
        "colab_type": "text"
      },
      "source": [
        "#Method to Extract Entity/Value pairs"
      ]
    },
    {
      "cell_type": "code",
      "metadata": {
        "id": "bDO-rbr0RE6s",
        "colab_type": "code",
        "colab": {}
      },
      "source": [
        "def createTable(nlp,document):\n",
        "     \n",
        "    doc = nlp(document)\n",
        "    values = {}\n",
        "    for x in doc.ents:\n",
        "      values[x.text] = x.label_\n",
        "      \n",
        "    # return  dictionary with entity/value pairs\n",
        "    return values"
      ],
      "execution_count": 0,
      "outputs": []
    }
  ]
}